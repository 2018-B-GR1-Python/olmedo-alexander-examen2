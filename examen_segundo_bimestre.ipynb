{
 "cells": [
  {
   "cell_type": "code",
   "execution_count": 1,
   "metadata": {},
   "outputs": [],
   "source": [
    "import numpy as np\n",
    "import matplotlib.pyplot as plt\n",
    "import pandas as pd"
   ]
  },
  {
   "cell_type": "markdown",
   "metadata": {},
   "source": [
    "## 1) ¿Cómo dividir una columna de texto en dos columnas separadas?"
   ]
  },
  {
   "cell_type": "code",
   "execution_count": 2,
   "metadata": {},
   "outputs": [
    {
     "name": "stdout",
     "output_type": "stream",
     "text": [
      "                          row\n",
      "0          STD, City    State\n",
      "1  33, Kolkata    West Bengal\n",
      "2   44, Chennai    Tamil Nadu\n",
      "3  40, Hyderabad    Telengana\n",
      "4  80, Bangalore    Karnataka\n"
     ]
    }
   ],
   "source": [
    "df = pd.DataFrame([\"STD, City    State\",\n",
    "\"33, Kolkata    West Bengal\",\n",
    "\"44, Chennai    Tamil Nadu\",\n",
    "\"40, Hyderabad    Telengana\",\n",
    "\"80, Bangalore    Karnataka\"], columns=['row'])\n",
    "print(df)"
   ]
  },
  {
   "cell_type": "code",
   "execution_count": 3,
   "metadata": {},
   "outputs": [
    {
     "name": "stdout",
     "output_type": "stream",
     "text": [
      "     0                        1\n",
      "0  STD            City    State\n",
      "1   33   Kolkata    West Bengal\n",
      "2   44    Chennai    Tamil Nadu\n",
      "3   40   Hyderabad    Telengana\n",
      "4   80   Bangalore    Karnataka\n"
     ]
    }
   ],
   "source": [
    "df2 = df['row'].str.split(',', 1, expand=True)\n",
    "print(df2)"
   ]
  },
  {
   "cell_type": "markdown",
   "metadata": {},
   "source": [
    "## 2) ¿Cómo obtener la frecuencia de valores repetidos en todo el dataframe?"
   ]
  },
  {
   "cell_type": "code",
   "execution_count": 4,
   "metadata": {},
   "outputs": [
    {
     "name": "stdout",
     "output_type": "stream",
     "text": [
      "   a  b  c  d\n",
      "0  8  5  8  5\n",
      "1  4  1  5  5\n",
      "2  3  2  6  1\n",
      "3  2  4  3  6\n",
      "4  7  1  9  8\n"
     ]
    }
   ],
   "source": [
    "df = pd.DataFrame(np.random.randint(1, 10, 20).reshape(-1, 4), columns = list('abcd'))\n",
    "print(df)"
   ]
  },
  {
   "cell_type": "code",
   "execution_count": 5,
   "metadata": {},
   "outputs": [
    {
     "data": {
      "text/html": [
       "<div>\n",
       "<style scoped>\n",
       "    .dataframe tbody tr th:only-of-type {\n",
       "        vertical-align: middle;\n",
       "    }\n",
       "\n",
       "    .dataframe tbody tr th {\n",
       "        vertical-align: top;\n",
       "    }\n",
       "\n",
       "    .dataframe thead th {\n",
       "        text-align: right;\n",
       "    }\n",
       "</style>\n",
       "<table border=\"1\" class=\"dataframe\">\n",
       "  <thead>\n",
       "    <tr style=\"text-align: right;\">\n",
       "      <th></th>\n",
       "    </tr>\n",
       "    <tr>\n",
       "      <th>num</th>\n",
       "    </tr>\n",
       "  </thead>\n",
       "  <tbody>\n",
       "    <tr>\n",
       "      <th>1</th>\n",
       "    </tr>\n",
       "    <tr>\n",
       "      <th>2</th>\n",
       "    </tr>\n",
       "    <tr>\n",
       "      <th>3</th>\n",
       "    </tr>\n",
       "    <tr>\n",
       "      <th>4</th>\n",
       "    </tr>\n",
       "    <tr>\n",
       "      <th>5</th>\n",
       "    </tr>\n",
       "    <tr>\n",
       "      <th>6</th>\n",
       "    </tr>\n",
       "    <tr>\n",
       "      <th>7</th>\n",
       "    </tr>\n",
       "    <tr>\n",
       "      <th>8</th>\n",
       "    </tr>\n",
       "    <tr>\n",
       "      <th>9</th>\n",
       "    </tr>\n",
       "  </tbody>\n",
       "</table>\n",
       "</div>"
      ],
      "text/plain": [
       "Empty DataFrame\n",
       "Columns: []\n",
       "Index: [1, 2, 3, 4, 5, 6, 7, 8, 9]"
      ]
     },
     "execution_count": 5,
     "metadata": {},
     "output_type": "execute_result"
    }
   ],
   "source": [
    "#pd.Dataframe(df.values.flatten())\n",
    "df2 = pd.DataFrame({'num':df.values.flatten()})\n",
    "df2.groupby('num').count()\n",
    "\n",
    "\n",
    "\n",
    "\n",
    "\n",
    "\n"
   ]
  },
  {
   "cell_type": "markdown",
   "metadata": {},
   "source": [
    "## 3) ¿Cómo obtener las posiciones donde coinciden los valores de dos columnas?"
   ]
  },
  {
   "cell_type": "code",
   "execution_count": 14,
   "metadata": {},
   "outputs": [
    {
     "name": "stdout",
     "output_type": "stream",
     "text": [
      "   fruit1  fruit2\n",
      "0  banana  banana\n",
      "1   apple  banana\n",
      "2   apple   apple\n",
      "3  orange  orange\n",
      "4   apple  orange\n",
      "5  banana  orange\n",
      "6  banana  banana\n",
      "7  orange  banana\n",
      "8   apple  orange\n",
      "9  banana   apple\n"
     ]
    }
   ],
   "source": [
    "df = pd.DataFrame({'fruit1': np.random.choice(['apple', 'orange', 'banana'], 10),\n",
    "                    'fruit2': np.random.choice(['apple', 'orange', 'banana'], 10)})\n",
    "print(df)"
   ]
  },
  {
   "cell_type": "code",
   "execution_count": 23,
   "metadata": {},
   "outputs": [
    {
     "data": {
      "text/plain": [
       "[0, 2, 3, 6]"
      ]
     },
     "execution_count": 23,
     "metadata": {},
     "output_type": "execute_result"
    }
   ],
   "source": [
    "df['igual'] = np.where((df['fruit1'] == df['fruit2']), True , np.nan)\n",
    "df.index[df['igual'] == True].tolist()"
   ]
  },
  {
   "cell_type": "markdown",
   "metadata": {},
   "source": [
    "## 4) A partir de un diccionario crear un DataFrame"
   ]
  },
  {
   "cell_type": "code",
   "execution_count": 26,
   "metadata": {},
   "outputs": [],
   "source": [
    "dict = {'X':[28,35,46,50,66], 'Y':[74,84,99,13,26],'Z':[36,47,56,62,73]}"
   ]
  },
  {
   "cell_type": "code",
   "execution_count": 29,
   "metadata": {},
   "outputs": [
    {
     "name": "stdout",
     "output_type": "stream",
     "text": [
      "    X   Y   Z\n",
      "0  28  74  36\n",
      "1  35  84  47\n",
      "2  46  99  56\n",
      "3  50  13  62\n",
      "4  66  26  73\n"
     ]
    }
   ],
   "source": [
    "df = pd.DataFrame.from_dict(dict)\n",
    "print(df)"
   ]
  },
  {
   "cell_type": "markdown",
   "metadata": {},
   "source": [
    "## 5) Genere 3 columnas con 5 elementos cada uno. Cree una función para eliminar los N primeras o N últimas filas"
   ]
  },
  {
   "cell_type": "code",
   "execution_count": 44,
   "metadata": {},
   "outputs": [
    {
     "name": "stdout",
     "output_type": "stream",
     "text": [
      "   col1  col2  col3\n",
      "0     0     5    10\n",
      "1     1     6    11\n",
      "2     2     7    12\n",
      "3     3     8    13\n",
      "4     4     9    14\n",
      "   col1  col2  col3\n",
      "2     2     7    12\n",
      "3     3     8    13\n",
      "4     4     9    14\n"
     ]
    }
   ],
   "source": [
    "lista = np.arange(15).reshape(3,5)\n",
    "df = pd.DataFrame(\n",
    "    {'col1': lista[0],\n",
    "     'col2': lista[1],\n",
    "     'col3': lista[2]\n",
    "    })\n",
    "print(df)\n",
    "\n",
    "def eliminar_filas( df, n):\n",
    "    df = df.iloc[n:]\n",
    "    print(df)\n",
    "\n",
    "eliminar_filas(df ,2)\n"
   ]
  },
  {
   "cell_type": "markdown",
   "metadata": {},
   "source": [
    "## 6) Genere 5 columnas con 5 elementos cada uno. Cree una función para ordenar de forma ascendente o descendente los datos por columna."
   ]
  },
  {
   "cell_type": "code",
   "execution_count": 49,
   "metadata": {},
   "outputs": [
    {
     "name": "stdout",
     "output_type": "stream",
     "text": [
      "   col1  col2  col3  col4  col5\n",
      "0     0     5    10    15    20\n",
      "1     1     6    11    16    21\n",
      "2     2     7    12    17    22\n",
      "3     3     8    13    18    23\n",
      "4     4     9    14    19    24\n",
      "   col1  col2  col3  col4  col5\n",
      "4     4     9    14    19    24\n",
      "3     3     8    13    18    23\n",
      "2     2     7    12    17    22\n",
      "1     1     6    11    16    21\n",
      "0     0     5    10    15    20\n"
     ]
    }
   ],
   "source": [
    "lista = np.arange(25).reshape(5,5)\n",
    "df = pd.DataFrame(\n",
    "    {'col1': lista[0],\n",
    "     'col2': lista[1],\n",
    "     'col3': lista[2],\n",
    "     'col4': lista[3],\n",
    "     'col5': lista[4]\n",
    "    })\n",
    "print(df)\n",
    "\n",
    "def ordenar_columnas( df, asc):\n",
    "    df = df.sort_values(by=['col1', 'col2', 'col3', 'col4','col5'],ascending=asc)\n",
    "    print(df)\n",
    "\n",
    "ordenar_columnas(df ,False)"
   ]
  },
  {
   "cell_type": "markdown",
   "metadata": {},
   "source": [
    "## 7 y 8) Genere 4 columnas con 5 elementos cada uno. Cree una función para obtener los N primeros o N ultimos registros."
   ]
  },
  {
   "cell_type": "code",
   "execution_count": 54,
   "metadata": {},
   "outputs": [
    {
     "name": "stdout",
     "output_type": "stream",
     "text": [
      "   col1  col2  col3  col4\n",
      "0     0     5    10    15\n",
      "1     1     6    11    16\n",
      "2     2     7    12    17\n",
      "3     3     8    13    18\n",
      "4     4     9    14    19\n",
      "   col1  col2  col3  col4\n",
      "0     0     5    10    15\n",
      "1     1     6    11    16\n"
     ]
    }
   ],
   "source": [
    "lista = np.arange(20).reshape(4,5)\n",
    "df = pd.DataFrame(\n",
    "    {'col1': lista[0],\n",
    "     'col2': lista[1],\n",
    "     'col3': lista[2],\n",
    "     'col4': lista[3]\n",
    "    })\n",
    "print(df)\n",
    "\n",
    "def obtener_n( df, n, prim):\n",
    "    if(prim):\n",
    "        df = df.iloc[:n]\n",
    "    else:\n",
    "        df = df.iloc[-n:]\n",
    "    print(df)\n",
    "\n",
    "obtener_n(df,2,True)"
   ]
  },
  {
   "cell_type": "markdown",
   "metadata": {},
   "source": [
    "## 9) Genere 6 columnas con 5 elementos cada uno. Cree una función para obtener un nuevo DataFrame sin la columna X."
   ]
  },
  {
   "cell_type": "code",
   "execution_count": 64,
   "metadata": {},
   "outputs": [
    {
     "name": "stdout",
     "output_type": "stream",
     "text": [
      "   col1  col2  col3  col4  col5  col6\n",
      "0     0     5    10    15    20    25\n",
      "1     1     6    11    16    21    26\n",
      "2     2     7    12    17    22    27\n",
      "3     3     8    13    18    23    28\n",
      "4     4     9    14    19    24    29\n",
      "   col1  col2  col4  col5  col6\n",
      "0     0     5    15    20    25\n",
      "1     1     6    16    21    26\n",
      "2     2     7    17    22    27\n",
      "3     3     8    18    23    28\n",
      "4     4     9    19    24    29\n"
     ]
    }
   ],
   "source": [
    "lista = np.arange(30).reshape(6,5)\n",
    "df = pd.DataFrame(\n",
    "    {'col1': lista[0],\n",
    "     'col2': lista[1],\n",
    "     'col3': lista[2],\n",
    "     'col4': lista[3],\n",
    "     'col5': lista[4],\n",
    "     'col6': lista[5]\n",
    "    })\n",
    "print(df)\n",
    "\n",
    "def eliminar_columna( df, n):\n",
    "    df = df.drop(df.columns[n-1], axis=1)\n",
    "    print(df)\n",
    "\n",
    "eliminar_columna(df,3)\n"
   ]
  },
  {
   "cell_type": "markdown",
   "metadata": {},
   "source": [
    "## 10) Genere 3 columnas con 5 elementos cada uno. Cree una función para obtener el numero de columnas en un dataframe."
   ]
  },
  {
   "cell_type": "code",
   "execution_count": 68,
   "metadata": {},
   "outputs": [
    {
     "name": "stdout",
     "output_type": "stream",
     "text": [
      "   col1  col2  col3\n",
      "0     0     5    10\n",
      "1     1     6    11\n",
      "2     2     7    12\n",
      "3     3     8    13\n",
      "4     4     9    14\n",
      "Numero de columnas: 3\n"
     ]
    }
   ],
   "source": [
    "lista = np.arange(15).reshape(3,5)\n",
    "df = pd.DataFrame(\n",
    "    {'col1': lista[0],\n",
    "     'col2': lista[1],\n",
    "     'col3': lista[2]\n",
    "    })\n",
    "print(df)\n",
    "\n",
    "def numero_columnas(df):\n",
    "    print (\"Numero de columnas:\",len(df.columns))\n",
    "    \n",
    "numero_columnas(df)"
   ]
  },
  {
   "cell_type": "markdown",
   "metadata": {},
   "source": [
    "## 11) Genere 2 columnas con 20 elementos cada uno. La primera columna debe de tener uno de los siguientes valores: C1, C2, C3 y C4. Estos valores se pueden repetir. La segunda columna tiene valores de números cualesquiera. Cree una función para  agrupar por la Primera Columna y que se listen los valores agrupados de la segunda Columna."
   ]
  },
  {
   "cell_type": "code",
   "execution_count": 89,
   "metadata": {},
   "outputs": [
    {
     "data": {
      "text/html": [
       "<div>\n",
       "<style scoped>\n",
       "    .dataframe tbody tr th:only-of-type {\n",
       "        vertical-align: middle;\n",
       "    }\n",
       "\n",
       "    .dataframe tbody tr th {\n",
       "        vertical-align: top;\n",
       "    }\n",
       "\n",
       "    .dataframe thead th {\n",
       "        text-align: right;\n",
       "    }\n",
       "</style>\n",
       "<table border=\"1\" class=\"dataframe\">\n",
       "  <thead>\n",
       "    <tr style=\"text-align: right;\">\n",
       "      <th></th>\n",
       "      <th></th>\n",
       "    </tr>\n",
       "    <tr>\n",
       "      <th>col1</th>\n",
       "      <th>col2</th>\n",
       "    </tr>\n",
       "  </thead>\n",
       "  <tbody>\n",
       "    <tr>\n",
       "      <th>C1</th>\n",
       "      <th>55</th>\n",
       "    </tr>\n",
       "    <tr>\n",
       "      <th rowspan=\"6\" valign=\"top\">C2</th>\n",
       "      <th>2</th>\n",
       "    </tr>\n",
       "    <tr>\n",
       "      <th>3</th>\n",
       "    </tr>\n",
       "    <tr>\n",
       "      <th>33</th>\n",
       "    </tr>\n",
       "    <tr>\n",
       "      <th>76</th>\n",
       "    </tr>\n",
       "    <tr>\n",
       "      <th>86</th>\n",
       "    </tr>\n",
       "    <tr>\n",
       "      <th>89</th>\n",
       "    </tr>\n",
       "    <tr>\n",
       "      <th rowspan=\"7\" valign=\"top\">C3</th>\n",
       "      <th>9</th>\n",
       "    </tr>\n",
       "    <tr>\n",
       "      <th>47</th>\n",
       "    </tr>\n",
       "    <tr>\n",
       "      <th>52</th>\n",
       "    </tr>\n",
       "    <tr>\n",
       "      <th>66</th>\n",
       "    </tr>\n",
       "    <tr>\n",
       "      <th>69</th>\n",
       "    </tr>\n",
       "    <tr>\n",
       "      <th>78</th>\n",
       "    </tr>\n",
       "    <tr>\n",
       "      <th>82</th>\n",
       "    </tr>\n",
       "    <tr>\n",
       "      <th rowspan=\"5\" valign=\"top\">C4</th>\n",
       "      <th>1</th>\n",
       "    </tr>\n",
       "    <tr>\n",
       "      <th>9</th>\n",
       "    </tr>\n",
       "    <tr>\n",
       "      <th>58</th>\n",
       "    </tr>\n",
       "    <tr>\n",
       "      <th>82</th>\n",
       "    </tr>\n",
       "    <tr>\n",
       "      <th>91</th>\n",
       "    </tr>\n",
       "  </tbody>\n",
       "</table>\n",
       "</div>"
      ],
      "text/plain": [
       "Empty DataFrame\n",
       "Columns: []\n",
       "Index: [(C1, 55), (C2, 2), (C2, 3), (C2, 33), (C2, 76), (C2, 86), (C2, 89), (C3, 9), (C3, 47), (C3, 52), (C3, 66), (C3, 69), (C3, 78), (C3, 82), (C4, 1), (C4, 9), (C4, 58), (C4, 82), (C4, 91)]"
      ]
     },
     "execution_count": 89,
     "metadata": {},
     "output_type": "execute_result"
    }
   ],
   "source": [
    "df = pd.DataFrame({'col1': np.random.choice(['C1', 'C2', 'C3', 'C4'], 20),\n",
    "                    'col2': np.random.randint(100, size=20)})\n",
    "df.groupby(['col1','col2']).count()"
   ]
  },
  {
   "cell_type": "markdown",
   "metadata": {},
   "source": [
    "## 12) Cree una función para crear un DataFrame a partir de una lista de listas. Suponga que la lista en la posicion 0 siempre son las cabeceras."
   ]
  },
  {
   "cell_type": "code",
   "execution_count": 94,
   "metadata": {},
   "outputs": [
    {
     "name": "stdout",
     "output_type": "stream",
     "text": [
      "   col1  col2\n",
      "0     2     4\n",
      "1     1     3\n"
     ]
    }
   ],
   "source": [
    "my_lists = [['col1', 'col2'], [2, 4], [1, 3]]\n",
    "headers = my_lists.pop(0)\n",
    "df = pd.DataFrame(my_lists, columns=headers)\n",
    "print(df)"
   ]
  },
  {
   "cell_type": "markdown",
   "metadata": {},
   "source": [
    "## 13) Escriba una funcion que inserte en un indice especifico una nueva columna de datos en un DataFrame.  Cree un DataFrame de ejemplo para probar su funcion. "
   ]
  },
  {
   "cell_type": "code",
   "execution_count": 106,
   "metadata": {},
   "outputs": [
    {
     "name": "stdout",
     "output_type": "stream",
     "text": [
      "   col2  col3\n",
      "0     4     7\n",
      "1     5     8\n",
      "2     6    12\n",
      "3     9     1\n",
      "4     5    11\n",
      "   col1  col2  col3\n",
      "0     7     4     7\n",
      "1     8     5     8\n",
      "2     9     6    12\n",
      "3    10     9     1\n",
      "4    11     5    11\n"
     ]
    }
   ],
   "source": [
    "df = pd.DataFrame({'col2':[4,5,6,9,5], 'col3':[7,8,12,1,11]})\n",
    "print(df)\n",
    "\n",
    "idx = 0\n",
    "new_col = [7, 8, 9,10,11]  # can be a list, a Series, an array or a scalar   \n",
    "df.insert(loc=idx, column='col1', value=new_col)\n",
    "print(df)"
   ]
  },
  {
   "cell_type": "markdown",
   "metadata": {},
   "source": [
    "## 14) Escriba una funcion para eliminar los valores de numpy “inf”, “-inf” es decir Infinite Positive e Infinite negative de un dataframe por NaN. Cree un DataFrame de ejemplo para probar su funcion."
   ]
  },
  {
   "cell_type": "code",
   "execution_count": 112,
   "metadata": {},
   "outputs": [
    {
     "name": "stdout",
     "output_type": "stream",
     "text": [
      "       col1       col2\n",
      "0  4.000000   7.000000\n",
      "1  5.000000   8.000000\n",
      "2       inf       -inf\n",
      "3  9.000000   1.000000\n",
      "4  5.000000  11.000000\n",
      "       col1       col2\n",
      "0  4.000000   7.000000\n",
      "1  5.000000   8.000000\n",
      "2       inf       -inf\n",
      "3  9.000000   1.000000\n",
      "4  5.000000  11.000000\n"
     ]
    }
   ],
   "source": [
    "df = pd.DataFrame({'col1':[4,5,np.inf,9,5], 'col2':[7,8,np.NINF,1,11]})\n",
    "print(df)\n",
    "df.replace([np.inf, -np.inf], np.nan)\n",
    "print(df)"
   ]
  },
  {
   "cell_type": "code",
   "execution_count": null,
   "metadata": {},
   "outputs": [],
   "source": []
  },
  {
   "cell_type": "code",
   "execution_count": null,
   "metadata": {},
   "outputs": [],
   "source": []
  }
 ],
 "metadata": {
  "kernelspec": {
   "display_name": "Python 3",
   "language": "python",
   "name": "python3"
  },
  "language_info": {
   "codemirror_mode": {
    "name": "ipython",
    "version": 3
   },
   "file_extension": ".py",
   "mimetype": "text/x-python",
   "name": "python",
   "nbconvert_exporter": "python",
   "pygments_lexer": "ipython3",
   "version": "3.7.2"
  }
 },
 "nbformat": 4,
 "nbformat_minor": 2
}
